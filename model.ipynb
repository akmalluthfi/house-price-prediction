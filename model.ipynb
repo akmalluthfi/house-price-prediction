{
 "cells": [
  {
   "cell_type": "code",
   "execution_count": 2,
   "metadata": {},
   "outputs": [],
   "source": [
    "import pandas as pd\n",
    "\n",
    "df = pd.read_csv(\"data/surabaya-house-prices-cleaned.csv\")"
   ]
  },
  {
   "cell_type": "code",
   "execution_count": 3,
   "metadata": {},
   "outputs": [
    {
     "name": "stdout",
     "output_type": "stream",
     "text": [
      "<class 'pandas.core.frame.DataFrame'>\n",
      "RangeIndex: 5397 entries, 0 to 5396\n",
      "Data columns (total 6 columns):\n",
      " #   Column           Non-Null Count  Dtype  \n",
      "---  ------           --------------  -----  \n",
      " 0   price            5397 non-null   float64\n",
      " 1   num_bedroom      5397 non-null   int64  \n",
      " 2   num_bathroom     5397 non-null   int64  \n",
      " 3   garage_capacity  5397 non-null   int64  \n",
      " 4   land_area        5397 non-null   int64  \n",
      " 5   building_area    5397 non-null   int64  \n",
      "dtypes: float64(1), int64(5)\n",
      "memory usage: 253.1 KB\n"
     ]
    }
   ],
   "source": [
    "df.info()"
   ]
  },
  {
   "cell_type": "code",
   "execution_count": 4,
   "metadata": {},
   "outputs": [],
   "source": [
    "from sklearn.preprocessing import StandardScaler\n",
    "\n",
    "X = df.drop(\"price\", axis=1)\n",
    "y = df[\"price\"]\n",
    "\n",
    "scaler = StandardScaler()\n",
    "X_scaled = scaler.fit_transform(X)"
   ]
  },
  {
   "cell_type": "code",
   "execution_count": 5,
   "metadata": {},
   "outputs": [],
   "source": [
    "from sklearn.model_selection import train_test_split\n",
    "\n",
    "X_train, X_test, y_train, y_test = train_test_split(\n",
    "    X_scaled, y, test_size=0.3, random_state=0\n",
    ")"
   ]
  },
  {
   "cell_type": "code",
   "execution_count": 6,
   "metadata": {},
   "outputs": [],
   "source": [
    "from sklearn.metrics import (\n",
    "    mean_absolute_error,\n",
    "    mean_squared_error,\n",
    "    root_mean_squared_error,\n",
    "    r2_score,\n",
    ")\n",
    "\n",
    "\n",
    "def evaluation_metric(y_test, y_pred, no_print=False):\n",
    "    mae = mean_absolute_error(y_test, y_pred)\n",
    "    mse = mean_squared_error(y_test, y_pred)\n",
    "    rmse = root_mean_squared_error(y_test, y_pred)\n",
    "    r2 = r2_score(y_test, y_pred)\n",
    "\n",
    "    if no_print:\n",
    "        return [f\"{mae:.5f}\", f\"{mse:.5f}\", f\"{rmse:.5f}\", f\"{r2:.5f}\"]\n",
    "\n",
    "    print(f\"MAE : {mae}\")\n",
    "    print(f\"MSE : {mse}\")\n",
    "    print(f\"RMSE : {rmse}\")\n",
    "    print(f\"R-squared : {r2}\")"
   ]
  },
  {
   "cell_type": "code",
   "execution_count": 12,
   "metadata": {},
   "outputs": [
    {
     "name": "stdout",
     "output_type": "stream",
     "text": [
      "MAE : 1625534713.5223165\n",
      "MSE : 1.6339932098596667e+19\n",
      "RMSE : 4042268187.3666754\n",
      "R-squared : 0.7325593881694958\n"
     ]
    }
   ],
   "source": [
    "from sklearn.ensemble import RandomForestRegressor\n",
    "\n",
    "# Best Parameters: {'max_depth': 20, 'max_features': 'sqrt', 'min_samples_leaf': 2, 'min_samples_split': 2, 'n_estimators': 100}\n",
    "# Best RMSE: 4872031149.238477\n",
    "rf = RandomForestRegressor(random_state=0)\n",
    "rf.fit(X_train, y_train)\n",
    "y_pred = rf.predict(X_test)\n",
    "evaluation_metric(y_test, y_pred)"
   ]
  },
  {
   "cell_type": "code",
   "execution_count": 8,
   "metadata": {},
   "outputs": [
    {
     "name": "stdout",
     "output_type": "stream",
     "text": [
      "Fitting 5 folds for each of 20 candidates, totalling 100 fits\n",
      "[CV] END ......................max_depth=1, n_estimators=100; total time=   0.2s\n",
      "[CV] END ......................max_depth=1, n_estimators=100; total time=   0.3s\n",
      "[CV] END ......................max_depth=1, n_estimators=100; total time=   0.2s\n",
      "[CV] END ......................max_depth=1, n_estimators=100; total time=   0.2s\n",
      "[CV] END ......................max_depth=1, n_estimators=150; total time=   0.3s\n",
      "[CV] END ......................max_depth=1, n_estimators=100; total time=   0.2s[CV] END ......................max_depth=1, n_estimators=150; total time=   0.3s\n",
      "\n",
      "[CV] END ......................max_depth=1, n_estimators=150; total time=   0.3s\n",
      "[CV] END ......................max_depth=1, n_estimators=150; total time=   0.4s\n",
      "[CV] END ......................max_depth=1, n_estimators=200; total time=   0.4s\n",
      "[CV] END ......................max_depth=1, n_estimators=200; total time=   0.4s\n",
      "[CV] END ......................max_depth=1, n_estimators=200; total time=   0.6s\n",
      "[CV] END ......................max_depth=1, n_estimators=150; total time=   0.4s\n",
      "[CV] END ......................max_depth=1, n_estimators=200; total time=   0.5s\n",
      "[CV] END ......................max_depth=1, n_estimators=200; total time=   0.5s\n",
      "[CV] END ......................max_depth=1, n_estimators=250; total time=   0.6s\n",
      "[CV] END ......................max_depth=1, n_estimators=250; total time=   0.6s\n",
      "[CV] END ......................max_depth=1, n_estimators=250; total time=   0.5s\n",
      "[CV] END ......................max_depth=1, n_estimators=250; total time=   0.6s\n",
      "[CV] END ......................max_depth=1, n_estimators=250; total time=   0.5s\n",
      "[CV] END ......................max_depth=1, n_estimators=300; total time=   0.5s\n",
      "[CV] END ......................max_depth=1, n_estimators=300; total time=   0.6s\n",
      "[CV] END ......................max_depth=2, n_estimators=100; total time=   0.2s\n",
      "[CV] END ......................max_depth=2, n_estimators=100; total time=   0.2s\n",
      "[CV] END ......................max_depth=2, n_estimators=100; total time=   0.3s\n",
      "[CV] END ......................max_depth=2, n_estimators=100; total time=   0.2s\n",
      "[CV] END ......................max_depth=1, n_estimators=300; total time=   0.7s\n",
      "[CV] END ......................max_depth=2, n_estimators=100; total time=   0.2s\n",
      "[CV] END ......................max_depth=1, n_estimators=300; total time=   0.6s\n",
      "[CV] END ......................max_depth=2, n_estimators=150; total time=   0.3s\n",
      "[CV] END ......................max_depth=2, n_estimators=150; total time=   0.4s\n",
      "[CV] END ......................max_depth=2, n_estimators=150; total time=   0.4s\n",
      "[CV] END ......................max_depth=1, n_estimators=300; total time=   0.9s\n",
      "[CV] END ......................max_depth=2, n_estimators=150; total time=   0.4s\n",
      "[CV] END ......................max_depth=2, n_estimators=150; total time=   0.4s\n",
      "[CV] END ......................max_depth=2, n_estimators=200; total time=   0.5s\n",
      "[CV] END ......................max_depth=2, n_estimators=200; total time=   0.5s\n",
      "[CV] END ......................max_depth=2, n_estimators=200; total time=   0.5s\n",
      "[CV] END ......................max_depth=2, n_estimators=200; total time=   0.5s\n",
      "[CV] END ......................max_depth=2, n_estimators=200; total time=   0.5s\n",
      "[CV] END ......................max_depth=2, n_estimators=250; total time=   0.7s\n",
      "[CV] END ......................max_depth=2, n_estimators=250; total time=   0.6s\n",
      "[CV] END ......................max_depth=2, n_estimators=250; total time=   0.5s\n",
      "[CV] END ......................max_depth=2, n_estimators=250; total time=   0.7s\n",
      "[CV] END ......................max_depth=2, n_estimators=250; total time=   0.6s\n",
      "[CV] END ......................max_depth=2, n_estimators=300; total time=   0.6s\n",
      "[CV] END ......................max_depth=3, n_estimators=100; total time=   0.3s\n",
      "[CV] END ......................max_depth=3, n_estimators=100; total time=   0.3s\n",
      "[CV] END ......................max_depth=2, n_estimators=300; total time=   0.7s\n",
      "[CV] END ......................max_depth=3, n_estimators=100; total time=   0.3s\n",
      "[CV] END ......................max_depth=2, n_estimators=300; total time=   0.7s\n",
      "[CV] END ......................max_depth=3, n_estimators=100; total time=   0.2s\n",
      "[CV] END ......................max_depth=3, n_estimators=100; total time=   0.3s\n",
      "[CV] END ......................max_depth=2, n_estimators=300; total time=   0.7s\n",
      "[CV] END ......................max_depth=2, n_estimators=300; total time=   0.6s\n",
      "[CV] END ......................max_depth=3, n_estimators=150; total time=   0.4s\n",
      "[CV] END ......................max_depth=3, n_estimators=150; total time=   0.4s\n",
      "[CV] END ......................max_depth=3, n_estimators=150; total time=   0.5s\n",
      "[CV] END ......................max_depth=3, n_estimators=150; total time=   0.4s\n",
      "[CV] END ......................max_depth=3, n_estimators=150; total time=   0.4s\n",
      "[CV] END ......................max_depth=3, n_estimators=200; total time=   0.5s\n",
      "[CV] END ......................max_depth=3, n_estimators=200; total time=   0.5s\n",
      "[CV] END ......................max_depth=3, n_estimators=200; total time=   0.5s\n",
      "[CV] END ......................max_depth=3, n_estimators=200; total time=   0.5s\n",
      "[CV] END ......................max_depth=3, n_estimators=200; total time=   0.5s\n",
      "[CV] END ......................max_depth=3, n_estimators=250; total time=   0.6s\n",
      "[CV] END ......................max_depth=3, n_estimators=250; total time=   0.7s\n",
      "[CV] END ......................max_depth=3, n_estimators=250; total time=   0.7s\n",
      "[CV] END ......................max_depth=3, n_estimators=250; total time=   0.7s\n",
      "[CV] END ......................max_depth=3, n_estimators=250; total time=   0.8s\n",
      "[CV] END ......................max_depth=4, n_estimators=100; total time=   0.3s\n",
      "[CV] END ......................max_depth=3, n_estimators=300; total time=   0.8s\n",
      "[CV] END ......................max_depth=3, n_estimators=300; total time=   0.8s\n",
      "[CV] END ......................max_depth=4, n_estimators=100; total time=   0.3s\n",
      "[CV] END ......................max_depth=3, n_estimators=300; total time=   0.8s\n",
      "[CV] END ......................max_depth=4, n_estimators=100; total time=   0.3s\n",
      "[CV] END ......................max_depth=4, n_estimators=100; total time=   0.3s\n",
      "[CV] END ......................max_depth=4, n_estimators=100; total time=   0.3s\n",
      "[CV] END ......................max_depth=3, n_estimators=300; total time=   0.9s\n",
      "[CV] END ......................max_depth=3, n_estimators=300; total time=   0.9s\n",
      "[CV] END ......................max_depth=4, n_estimators=150; total time=   0.4s\n",
      "[CV] END ......................max_depth=4, n_estimators=150; total time=   0.5s\n",
      "[CV] END ......................max_depth=4, n_estimators=150; total time=   0.5s\n",
      "[CV] END ......................max_depth=4, n_estimators=150; total time=   0.5s\n",
      "[CV] END ......................max_depth=4, n_estimators=150; total time=   0.6s\n",
      "[CV] END ......................max_depth=4, n_estimators=200; total time=   0.6s\n",
      "[CV] END ......................max_depth=4, n_estimators=200; total time=   0.6s\n",
      "[CV] END ......................max_depth=4, n_estimators=200; total time=   0.7s\n",
      "[CV] END ......................max_depth=4, n_estimators=200; total time=   0.8s\n",
      "[CV] END ......................max_depth=4, n_estimators=200; total time=   0.7s\n",
      "[CV] END ......................max_depth=4, n_estimators=250; total time=   0.7s\n",
      "[CV] END ......................max_depth=4, n_estimators=250; total time=   0.8s\n",
      "[CV] END ......................max_depth=4, n_estimators=250; total time=   0.8s\n",
      "[CV] END ......................max_depth=4, n_estimators=250; total time=   0.8s\n",
      "[CV] END ......................max_depth=4, n_estimators=250; total time=   0.7s\n",
      "[CV] END ......................max_depth=4, n_estimators=300; total time=   0.9s\n",
      "[CV] END ......................max_depth=4, n_estimators=300; total time=   0.8s\n",
      "[CV] END ......................max_depth=4, n_estimators=300; total time=   0.9s\n",
      "[CV] END ......................max_depth=4, n_estimators=300; total time=   0.7s\n",
      "[CV] END ......................max_depth=4, n_estimators=300; total time=   0.8s\n"
     ]
    },
    {
     "name": "stderr",
     "output_type": "stream",
     "text": [
      "/home/alfi/Code/house-price-prediction/.venv/lib/python3.11/site-packages/numpy/ma/core.py:2881: RuntimeWarning: invalid value encountered in cast\n",
      "  _data = np.array(data, dtype=dtype, copy=copy,\n"
     ]
    },
    {
     "name": "stdout",
     "output_type": "stream",
     "text": [
      "Best Parameters: {'max_depth': 4, 'n_estimators': 300}\n",
      "Best RMSE: nan\n"
     ]
    },
    {
     "name": "stderr",
     "output_type": "stream",
     "text": [
      "/tmp/ipykernel_7783/2048736730.py:37: RuntimeWarning: invalid value encountered in scalar power\n",
      "  print(\"Best RMSE:\", (-grid_search.best_score_) ** 0.5)\n"
     ]
    }
   ],
   "source": [
    "from sklearn.ensemble import RandomForestRegressor\n",
    "from sklearn.model_selection import GridSearchCV\n",
    "\n",
    "# Parameter grid\n",
    "# param_grid = {\n",
    "#     \"bootstrap\": [True, False],\n",
    "#     \"max_depth\": [10, 20, 30, 40, 50, 60, 70, 80, 90, 100, None],\n",
    "#     \"max_features\": [\"auto\", \"sqrt\"],\n",
    "#     \"min_samples_leaf\": [1, 2, 4],\n",
    "#     \"min_samples_split\": [2, 5, 10],\n",
    "#     \"n_estimators\": [200, 400, 600, 800, 1000, 1200, 1400, 1600, 1800, 2000],\n",
    "# }\n",
    "parameters = {\n",
    "    \"n_estimators\": [100, 150, 200, 250, 300],\n",
    "    \"max_depth\": [1, 2, 3, 4],\n",
    "}\n",
    "\n",
    "# Grid Search\n",
    "grid_search = GridSearchCV(\n",
    "    estimator=RandomForestRegressor(random_state=0),\n",
    "    param_grid=parameters,\n",
    "    cv=5,\n",
    "    scoring=\"r2\",\n",
    "    # scoring=(\n",
    "    #     \"neg_mean_absolute_error\",\n",
    "    #     \"neg_mean_squared_error\",\n",
    "    #     \"neg_root_mean_squared_error\",\n",
    "    #     \"r2\",\n",
    "    # ),\n",
    "    verbose=2,\n",
    "    n_jobs=-1,\n",
    ")\n",
    "grid_search.fit(X_train, y_train)\n",
    "\n",
    "# Best parameters and score\n",
    "print(\"Best Parameters:\", grid_search.best_params_)\n",
    "print(\"Best RMSE:\", (-grid_search.best_score_) ** 0.5)"
   ]
  }
 ],
 "metadata": {
  "kernelspec": {
   "display_name": ".venv",
   "language": "python",
   "name": "python3"
  },
  "language_info": {
   "codemirror_mode": {
    "name": "ipython",
    "version": 3
   },
   "file_extension": ".py",
   "mimetype": "text/x-python",
   "name": "python",
   "nbconvert_exporter": "python",
   "pygments_lexer": "ipython3",
   "version": "3.11.2"
  }
 },
 "nbformat": 4,
 "nbformat_minor": 2
}
