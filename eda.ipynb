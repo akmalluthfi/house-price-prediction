{
 "cells": [
  {
   "cell_type": "code",
   "execution_count": 2,
   "metadata": {},
   "outputs": [
    {
     "name": "stdout",
     "output_type": "stream",
     "text": [
      "<class 'pandas.core.frame.DataFrame'>\n",
      "RangeIndex: 5300 entries, 0 to 5299\n",
      "Data columns (total 6 columns):\n",
      " #   Column           Non-Null Count  Dtype  \n",
      "---  ------           --------------  -----  \n",
      " 0   price            5262 non-null   float64\n",
      " 1   num_bedroom      5300 non-null   int64  \n",
      " 2   num_bathroom     5300 non-null   int64  \n",
      " 3   garage_capacity  5300 non-null   int64  \n",
      " 4   land_area        5300 non-null   int64  \n",
      " 5   building_area    5300 non-null   int64  \n",
      "dtypes: float64(1), int64(5)\n",
      "memory usage: 248.6 KB\n"
     ]
    }
   ],
   "source": [
    "import pandas as pd\n",
    "import matplotlib.pyplot as plt\n",
    "import seaborn as sns\n",
    "\n",
    "df = pd.read_csv(\"data/surabaya-house-prices-old.csv\")\n",
    "df.info()"
   ]
  },
  {
   "cell_type": "code",
   "execution_count": 3,
   "metadata": {},
   "outputs": [],
   "source": [
    "df.dropna(inplace=True)"
   ]
  },
  {
   "cell_type": "code",
   "execution_count": 4,
   "metadata": {},
   "outputs": [],
   "source": [
    "df.drop(df[df[\"num_bedroom\"] == 0].index, inplace=True)\n",
    "df.drop(df[df[\"num_bathroom\"] == 0].index, inplace=True)"
   ]
  },
  {
   "cell_type": "code",
   "execution_count": 5,
   "metadata": {},
   "outputs": [],
   "source": [
    "df[df[\"land_area\"] < df[\"building_area\"]]\n",
    "df.drop(df[df[\"land_area\"] < df[\"building_area\"]].index, inplace=True)"
   ]
  },
  {
   "cell_type": "code",
   "execution_count": 6,
   "metadata": {},
   "outputs": [],
   "source": [
    "df.sort_values(\"land_area\", ascending=False).head(10)\n",
    "df.drop(df[df[\"land_area\"] > 5000].index, inplace=True)"
   ]
  },
  {
   "cell_type": "code",
   "execution_count": 7,
   "metadata": {},
   "outputs": [],
   "source": [
    "df.sort_values(\"building_area\", ascending=False).head(10)\n",
    "df.drop(df[df[\"building_area\"] > 8000].index, inplace=True)"
   ]
  },
  {
   "cell_type": "code",
   "execution_count": 8,
   "metadata": {},
   "outputs": [],
   "source": [
    "df.sort_values(\"price\", ascending=False).head(10)\n",
    "df.drop(df[df[\"building_area\"] > 8000].index, inplace=True)"
   ]
  },
  {
   "cell_type": "code",
   "execution_count": 9,
   "metadata": {},
   "outputs": [
    {
     "data": {
      "text/plain": [
       "np.int64(327)"
      ]
     },
     "execution_count": 9,
     "metadata": {},
     "output_type": "execute_result"
    }
   ],
   "source": [
    "df.duplicated().sum()"
   ]
  },
  {
   "cell_type": "code",
   "execution_count": 10,
   "metadata": {},
   "outputs": [],
   "source": [
    "df.drop_duplicates(inplace=True)"
   ]
  },
  {
   "cell_type": "code",
   "execution_count": 11,
   "metadata": {},
   "outputs": [
    {
     "data": {
      "text/html": [
       "<div>\n",
       "<style scoped>\n",
       "    .dataframe tbody tr th:only-of-type {\n",
       "        vertical-align: middle;\n",
       "    }\n",
       "\n",
       "    .dataframe tbody tr th {\n",
       "        vertical-align: top;\n",
       "    }\n",
       "\n",
       "    .dataframe thead th {\n",
       "        text-align: right;\n",
       "    }\n",
       "</style>\n",
       "<table border=\"1\" class=\"dataframe\">\n",
       "  <thead>\n",
       "    <tr style=\"text-align: right;\">\n",
       "      <th></th>\n",
       "      <th>price</th>\n",
       "      <th>num_bedroom</th>\n",
       "      <th>num_bathroom</th>\n",
       "      <th>garage_capacity</th>\n",
       "      <th>land_area</th>\n",
       "      <th>building_area</th>\n",
       "    </tr>\n",
       "  </thead>\n",
       "  <tbody>\n",
       "    <tr>\n",
       "      <th>count</th>\n",
       "      <td>1.673000e+03</td>\n",
       "      <td>1673.000000</td>\n",
       "      <td>1673.000000</td>\n",
       "      <td>1673.000000</td>\n",
       "      <td>1673.000000</td>\n",
       "      <td>1673.000000</td>\n",
       "    </tr>\n",
       "    <tr>\n",
       "      <th>mean</th>\n",
       "      <td>5.015374e+09</td>\n",
       "      <td>3.302451</td>\n",
       "      <td>2.245666</td>\n",
       "      <td>0.928870</td>\n",
       "      <td>279.133293</td>\n",
       "      <td>201.683204</td>\n",
       "    </tr>\n",
       "    <tr>\n",
       "      <th>std</th>\n",
       "      <td>9.699533e+09</td>\n",
       "      <td>1.678915</td>\n",
       "      <td>1.531572</td>\n",
       "      <td>1.235087</td>\n",
       "      <td>325.358488</td>\n",
       "      <td>223.225759</td>\n",
       "    </tr>\n",
       "    <tr>\n",
       "      <th>min</th>\n",
       "      <td>3.500000e+07</td>\n",
       "      <td>1.000000</td>\n",
       "      <td>1.000000</td>\n",
       "      <td>0.000000</td>\n",
       "      <td>24.000000</td>\n",
       "      <td>0.000000</td>\n",
       "    </tr>\n",
       "    <tr>\n",
       "      <th>25%</th>\n",
       "      <td>1.010000e+09</td>\n",
       "      <td>2.000000</td>\n",
       "      <td>1.000000</td>\n",
       "      <td>0.000000</td>\n",
       "      <td>100.000000</td>\n",
       "      <td>77.000000</td>\n",
       "    </tr>\n",
       "    <tr>\n",
       "      <th>50%</th>\n",
       "      <td>2.000000e+09</td>\n",
       "      <td>3.000000</td>\n",
       "      <td>2.000000</td>\n",
       "      <td>1.000000</td>\n",
       "      <td>180.000000</td>\n",
       "      <td>138.000000</td>\n",
       "    </tr>\n",
       "    <tr>\n",
       "      <th>75%</th>\n",
       "      <td>4.300000e+09</td>\n",
       "      <td>4.000000</td>\n",
       "      <td>3.000000</td>\n",
       "      <td>1.000000</td>\n",
       "      <td>332.000000</td>\n",
       "      <td>250.000000</td>\n",
       "    </tr>\n",
       "    <tr>\n",
       "      <th>max</th>\n",
       "      <td>1.100000e+11</td>\n",
       "      <td>24.000000</td>\n",
       "      <td>30.000000</td>\n",
       "      <td>16.000000</td>\n",
       "      <td>3852.000000</td>\n",
       "      <td>3490.000000</td>\n",
       "    </tr>\n",
       "  </tbody>\n",
       "</table>\n",
       "</div>"
      ],
      "text/plain": [
       "              price  num_bedroom  num_bathroom  garage_capacity    land_area  \\\n",
       "count  1.673000e+03  1673.000000   1673.000000      1673.000000  1673.000000   \n",
       "mean   5.015374e+09     3.302451      2.245666         0.928870   279.133293   \n",
       "std    9.699533e+09     1.678915      1.531572         1.235087   325.358488   \n",
       "min    3.500000e+07     1.000000      1.000000         0.000000    24.000000   \n",
       "25%    1.010000e+09     2.000000      1.000000         0.000000   100.000000   \n",
       "50%    2.000000e+09     3.000000      2.000000         1.000000   180.000000   \n",
       "75%    4.300000e+09     4.000000      3.000000         1.000000   332.000000   \n",
       "max    1.100000e+11    24.000000     30.000000        16.000000  3852.000000   \n",
       "\n",
       "       building_area  \n",
       "count    1673.000000  \n",
       "mean      201.683204  \n",
       "std       223.225759  \n",
       "min         0.000000  \n",
       "25%        77.000000  \n",
       "50%       138.000000  \n",
       "75%       250.000000  \n",
       "max      3490.000000  "
      ]
     },
     "execution_count": 11,
     "metadata": {},
     "output_type": "execute_result"
    }
   ],
   "source": [
    "df.describe()"
   ]
  },
  {
   "cell_type": "code",
   "execution_count": 12,
   "metadata": {},
   "outputs": [
    {
     "data": {
      "text/html": [
       "<div>\n",
       "<style scoped>\n",
       "    .dataframe tbody tr th:only-of-type {\n",
       "        vertical-align: middle;\n",
       "    }\n",
       "\n",
       "    .dataframe tbody tr th {\n",
       "        vertical-align: top;\n",
       "    }\n",
       "\n",
       "    .dataframe thead th {\n",
       "        text-align: right;\n",
       "    }\n",
       "</style>\n",
       "<table border=\"1\" class=\"dataframe\">\n",
       "  <thead>\n",
       "    <tr style=\"text-align: right;\">\n",
       "      <th></th>\n",
       "      <th>price</th>\n",
       "      <th>num_bedroom</th>\n",
       "      <th>num_bathroom</th>\n",
       "      <th>garage_capacity</th>\n",
       "      <th>land_area</th>\n",
       "      <th>building_area</th>\n",
       "    </tr>\n",
       "  </thead>\n",
       "  <tbody>\n",
       "    <tr>\n",
       "      <th>price</th>\n",
       "      <td>1.000000</td>\n",
       "      <td>0.363565</td>\n",
       "      <td>0.411750</td>\n",
       "      <td>0.295243</td>\n",
       "      <td>0.741648</td>\n",
       "      <td>0.685764</td>\n",
       "    </tr>\n",
       "    <tr>\n",
       "      <th>num_bedroom</th>\n",
       "      <td>0.363565</td>\n",
       "      <td>1.000000</td>\n",
       "      <td>0.672124</td>\n",
       "      <td>0.216030</td>\n",
       "      <td>0.448247</td>\n",
       "      <td>0.494186</td>\n",
       "    </tr>\n",
       "    <tr>\n",
       "      <th>num_bathroom</th>\n",
       "      <td>0.411750</td>\n",
       "      <td>0.672124</td>\n",
       "      <td>1.000000</td>\n",
       "      <td>0.196103</td>\n",
       "      <td>0.474595</td>\n",
       "      <td>0.531428</td>\n",
       "    </tr>\n",
       "    <tr>\n",
       "      <th>garage_capacity</th>\n",
       "      <td>0.295243</td>\n",
       "      <td>0.216030</td>\n",
       "      <td>0.196103</td>\n",
       "      <td>1.000000</td>\n",
       "      <td>0.236970</td>\n",
       "      <td>0.244400</td>\n",
       "    </tr>\n",
       "    <tr>\n",
       "      <th>land_area</th>\n",
       "      <td>0.741648</td>\n",
       "      <td>0.448247</td>\n",
       "      <td>0.474595</td>\n",
       "      <td>0.236970</td>\n",
       "      <td>1.000000</td>\n",
       "      <td>0.880534</td>\n",
       "    </tr>\n",
       "    <tr>\n",
       "      <th>building_area</th>\n",
       "      <td>0.685764</td>\n",
       "      <td>0.494186</td>\n",
       "      <td>0.531428</td>\n",
       "      <td>0.244400</td>\n",
       "      <td>0.880534</td>\n",
       "      <td>1.000000</td>\n",
       "    </tr>\n",
       "  </tbody>\n",
       "</table>\n",
       "</div>"
      ],
      "text/plain": [
       "                    price  num_bedroom  num_bathroom  garage_capacity  \\\n",
       "price            1.000000     0.363565      0.411750         0.295243   \n",
       "num_bedroom      0.363565     1.000000      0.672124         0.216030   \n",
       "num_bathroom     0.411750     0.672124      1.000000         0.196103   \n",
       "garage_capacity  0.295243     0.216030      0.196103         1.000000   \n",
       "land_area        0.741648     0.448247      0.474595         0.236970   \n",
       "building_area    0.685764     0.494186      0.531428         0.244400   \n",
       "\n",
       "                 land_area  building_area  \n",
       "price             0.741648       0.685764  \n",
       "num_bedroom       0.448247       0.494186  \n",
       "num_bathroom      0.474595       0.531428  \n",
       "garage_capacity   0.236970       0.244400  \n",
       "land_area         1.000000       0.880534  \n",
       "building_area     0.880534       1.000000  "
      ]
     },
     "execution_count": 12,
     "metadata": {},
     "output_type": "execute_result"
    }
   ],
   "source": [
    "df.corr()"
   ]
  },
  {
   "cell_type": "code",
   "execution_count": 13,
   "metadata": {},
   "outputs": [
    {
     "name": "stdout",
     "output_type": "stream",
     "text": [
      "<class 'pandas.core.frame.DataFrame'>\n",
      "Index: 1673 entries, 0 to 5296\n",
      "Data columns (total 6 columns):\n",
      " #   Column           Non-Null Count  Dtype  \n",
      "---  ------           --------------  -----  \n",
      " 0   price            1673 non-null   float64\n",
      " 1   num_bedroom      1673 non-null   int64  \n",
      " 2   num_bathroom     1673 non-null   int64  \n",
      " 3   garage_capacity  1673 non-null   int64  \n",
      " 4   land_area        1673 non-null   int64  \n",
      " 5   building_area    1673 non-null   int64  \n",
      "dtypes: float64(1), int64(5)\n",
      "memory usage: 91.5 KB\n"
     ]
    }
   ],
   "source": [
    "df.info()"
   ]
  },
  {
   "cell_type": "code",
   "execution_count": 14,
   "metadata": {},
   "outputs": [
    {
     "data": {
      "image/png": "[encoded data removed]",
      "text/plain": [
       "<Figure size 640x480 with 1 Axes>"
      ]
     },
     "metadata": {},
     "output_type": "display_data"
    },
    {
     "data": {
      "image/png": "[encoded data removed]",
      "text/plain": [
       "<Figure size 640x480 with 1 Axes>"
      ]
     },
     "metadata": {},
     "output_type": "display_data"
    },
    {
     "data": {
      "image/png": "[encoded data removed]",
      "text/plain": [
       "<Figure size 640x480 with 1 Axes>"
      ]
     },
     "metadata": {},
     "output_type": "display_data"
    },
    {
     "data": {
      "image/png": "[encoded data removed]",
      "text/plain": [
       "<Figure size 640x480 with 1 Axes>"
      ]
     },
     "metadata": {},
     "output_type": "display_data"
    },
    {
     "data": {
      "image/png": "[encoded data removed]",
      "text/plain": [
       "<Figure size 640x480 with 1 Axes>"
      ]
     },
     "metadata": {},
     "output_type": "display_data"
    },
    {
     "data": {
      "image/png": "[encoded data removed]",
      "text/plain": [
       "<Figure size 640x480 with 1 Axes>"
      ]
     },
     "metadata": {},
     "output_type": "display_data"
    }
   ],
   "source": [
    "for col in df.columns:\n",
    "    sns.boxplot(x=df[col])\n",
    "    plt.show()"
   ]
  },
  {
   "cell_type": "code",
   "execution_count": 15,
   "metadata": {},
   "outputs": [],
   "source": [
    "df.to_csv(\"data/surabaya-house-prices-cleaned.csv\", index=False)"
   ]
  },
  {
   "cell_type": "code",
   "execution_count": 16,
   "metadata": {},
   "outputs": [],
   "source": [
    "from sklearn.preprocessing import StandardScaler\n",
    "\n",
    "X = df.drop(\"price\", axis=1)\n",
    "y = df[\"price\"]\n",
    "\n",
    "scaler = StandardScaler()\n",
    "X_scaled = scaler.fit_transform(X)"
   ]
  },
  {
   "cell_type": "code",
   "execution_count": 17,
   "metadata": {},
   "outputs": [],
   "source": [
    "from sklearn.model_selection import train_test_split\n",
    "\n",
    "X_train, X_test, y_train, y_test = train_test_split(\n",
    "    X_scaled, y, test_size=0.3, random_state=0\n",
    ")"
   ]
  },
  {
   "cell_type": "code",
   "execution_count": 18,
   "metadata": {},
   "outputs": [],
   "source": [
    "from sklearn.metrics import (\n",
    "    mean_absolute_error,\n",
    "    mean_squared_error,\n",
    "    root_mean_squared_error,\n",
    "    r2_score,\n",
    ")\n",
    "\n",
    "\n",
    "def evaluation_metric(y_test, y_pred):\n",
    "    mae = mean_absolute_error(y_test, y_pred)\n",
    "    mse = mean_squared_error(y_test, y_pred)\n",
    "    rmse = root_mean_squared_error(y_test, y_pred)\n",
    "    r2 = r2_score(y_test, y_pred)\n",
    "\n",
    "    return [f\"{mae:.5f}\", f\"{mse:.5f}\", f\"{rmse:.5f}\", f\"{r2:.5f}\"]"
   ]
  },
  {
   "cell_type": "code",
   "execution_count": 19,
   "metadata": {},
   "outputs": [
    {
     "data": {
      "text/html": [
       "<div>\n",
       "<style scoped>\n",
       "    .dataframe tbody tr th:only-of-type {\n",
       "        vertical-align: middle;\n",
       "    }\n",
       "\n",
       "    .dataframe tbody tr th {\n",
       "        vertical-align: top;\n",
       "    }\n",
       "\n",
       "    .dataframe thead th {\n",
       "        text-align: right;\n",
       "    }\n",
       "</style>\n",
       "<table border=\"1\" class=\"dataframe\">\n",
       "  <thead>\n",
       "    <tr style=\"text-align: right;\">\n",
       "      <th></th>\n",
       "      <th>MAE</th>\n",
       "      <th>MSE</th>\n",
       "      <th>RMSE</th>\n",
       "      <th>R-squared</th>\n",
       "    </tr>\n",
       "    <tr>\n",
       "      <th>Method</th>\n",
       "      <th></th>\n",
       "      <th></th>\n",
       "      <th></th>\n",
       "      <th></th>\n",
       "    </tr>\n",
       "  </thead>\n",
       "  <tbody>\n",
       "    <tr>\n",
       "      <th>gb</th>\n",
       "      <td>1865979156.50714</td>\n",
       "      <td>21727865433674727424.00000</td>\n",
       "      <td>4661315847.87758</td>\n",
       "      <td>0.77533</td>\n",
       "    </tr>\n",
       "    <tr>\n",
       "      <th>rf</th>\n",
       "      <td>2028421868.26720</td>\n",
       "      <td>28582714835762884608.00000</td>\n",
       "      <td>5346280467.36821</td>\n",
       "      <td>0.70444</td>\n",
       "    </tr>\n",
       "    <tr>\n",
       "      <th>lasso</th>\n",
       "      <td>2574986515.61726</td>\n",
       "      <td>37064710946949210112.00000</td>\n",
       "      <td>6088079413.65331</td>\n",
       "      <td>0.61674</td>\n",
       "    </tr>\n",
       "    <tr>\n",
       "      <th>ridge</th>\n",
       "      <td>2653755827.34424</td>\n",
       "      <td>37924379628581019648.00000</td>\n",
       "      <td>6158277326.37797</td>\n",
       "      <td>0.60785</td>\n",
       "    </tr>\n",
       "    <tr>\n",
       "      <th>linreg</th>\n",
       "      <td>2670758274.82155</td>\n",
       "      <td>38512364040575270912.00000</td>\n",
       "      <td>6205833065.79989</td>\n",
       "      <td>0.60177</td>\n",
       "    </tr>\n",
       "    <tr>\n",
       "      <th>tree</th>\n",
       "      <td>2644545484.72278</td>\n",
       "      <td>61952163698821603328.00000</td>\n",
       "      <td>7870969679.70412</td>\n",
       "      <td>0.35939</td>\n",
       "    </tr>\n",
       "  </tbody>\n",
       "</table>\n",
       "</div>"
      ],
      "text/plain": [
       "                     MAE                         MSE              RMSE  \\\n",
       "Method                                                                   \n",
       "gb      1865979156.50714  21727865433674727424.00000  4661315847.87758   \n",
       "rf      2028421868.26720  28582714835762884608.00000  5346280467.36821   \n",
       "lasso   2574986515.61726  37064710946949210112.00000  6088079413.65331   \n",
       "ridge   2653755827.34424  37924379628581019648.00000  6158277326.37797   \n",
       "linreg  2670758274.82155  38512364040575270912.00000  6205833065.79989   \n",
       "tree    2644545484.72278  61952163698821603328.00000  7870969679.70412   \n",
       "\n",
       "       R-squared  \n",
       "Method            \n",
       "gb       0.77533  \n",
       "rf       0.70444  \n",
       "lasso    0.61674  \n",
       "ridge    0.60785  \n",
       "linreg   0.60177  \n",
       "tree     0.35939  "
      ]
     },
     "execution_count": 19,
     "metadata": {},
     "output_type": "execute_result"
    }
   ],
   "source": [
    "from sklearn.linear_model import LinearRegression, LassoCV, RidgeCV\n",
    "from sklearn.ensemble import RandomForestRegressor, GradientBoostingRegressor\n",
    "from sklearn.tree import DecisionTreeRegressor\n",
    "\n",
    "models = {\n",
    "    \"rf\": RandomForestRegressor(random_state=0),\n",
    "    \"gb\": GradientBoostingRegressor(random_state=0),\n",
    "    \"ridge\": RidgeCV(),\n",
    "    \"linreg\": LinearRegression(),\n",
    "    \"lasso\": LassoCV(random_state=0),\n",
    "    \"tree\": DecisionTreeRegressor(random_state=0),\n",
    "}\n",
    "\n",
    "\n",
    "results = []\n",
    "\n",
    "for model in models.values():\n",
    "    model.fit(X_train, y_train)\n",
    "    y_pred = model.predict(X_test)\n",
    "    results.append(evaluation_metric(y_test, y_pred))\n",
    "\n",
    "\n",
    "evaluation_df = pd.DataFrame(\n",
    "    data=results,\n",
    "    columns=[\"MAE\", \"MSE\", \"RMSE\", \"R-squared\"],\n",
    ")\n",
    "\n",
    "evaluation_df[\"Method\"] = [name for name in models.keys()]\n",
    "evaluation_df.set_index(\"Method\", inplace=True)\n",
    "\n",
    "evaluation_df.sort_values(\"R-squared\", ascending=False)"
   ]
  },
  {
   "cell_type": "code",
   "execution_count": 20,
   "metadata": {},
   "outputs": [
    {
     "name": "stderr",
     "output_type": "stream",
     "text": [
      "c:\\Users\\munaf\\Documents\\semester 3\\Mesin Pembelajaran\\praktikum\\uas_github\\.venv\\Lib\\site-packages\\numpy\\ma\\core.py:2881: RuntimeWarning: invalid value encountered in cast\n",
      "  _data = np.array(data, dtype=dtype, copy=copy,\n"
     ]
    },
    {
     "name": "stdout",
     "output_type": "stream",
     "text": [
      "Best Parameters: {'max_depth': 13, 'max_features': 'sqrt', 'min_samples_leaf': 1, 'min_samples_split': 11, 'n_estimators': 400}\n"
     ]
    },
    {
     "data": {
      "text/plain": [
       "['2089979063.82849',\n",
       " '24630177542480703488.00000',\n",
       " '4962879964.54485',\n",
       " '0.74531']"
      ]
     },
     "execution_count": 20,
     "metadata": {},
     "output_type": "execute_result"
    }
   ],
   "source": [
    "from sklearn.model_selection import GridSearchCV\n",
    "\n",
    "param_grid = {\n",
    "    'n_estimators': [399, 400, 401], # 400\n",
    "    'max_features': [None, \"sqrt\", \"log2\", 0.1, 1, 2], # \"sqrt\"\n",
    "    'max_depth': [12, 13, 14], # 13\n",
    "    'min_samples_leaf': [0.1, 1, 2], # 1\n",
    "    'min_samples_split': [10, 11, 12], # 11\n",
    "\n",
    "}\n",
    "\n",
    "rf = RandomForestRegressor(random_state=0)\n",
    "\n",
    "grid_search = GridSearchCV(estimator=rf, param_grid=param_grid, cv=5, scoring='r2', n_jobs=-1)\n",
    "\n",
    "# 4. Latih GridSearchCV pada data training\n",
    "grid_search.fit(X_train, y_train)\n",
    "\n",
    "# 5. Ambil hasil terbaik\n",
    "best_model = grid_search.best_estimator_\n",
    "print(\"Best Parameters:\", grid_search.best_params_)\n",
    "\n",
    "# 6. Evaluasi model terbaik pada data testing\n",
    "y_pred = best_model.predict(X_test)\n",
    "evaluation_metric(y_test, y_pred)\n"
   ]
  },
  {
   "cell_type": "code",
   "execution_count": 21,
   "metadata": {},
   "outputs": [],
   "source": [
    "param_grid = {\n",
    "    'max_depth': [80, 90, 100, 110], # int, default=None\n",
    "    'max_features': [2, 3], # {\"sqrt\", \"log2\", None}, int or float, default=1.0\n",
    "    'min_samples_leaf': [3, 4, 5], # int or float, default=1\n",
    "    'min_samples_split': [8, 10, 12], # int or float, default=2\n",
    "    'n_estimators': [100, 200, 300, 1000] # int, default=100\n",
    "}"
   ]
  },
  {
   "cell_type": "code",
   "execution_count": 22,
   "metadata": {},
   "outputs": [
    {
     "name": "stdout",
     "output_type": "stream",
     "text": [
      "Best Parameters: {'learning_rate': 0.2, 'max_depth': 4, 'max_features': 0.0001, 'min_samples_leaf': 1, 'min_samples_split': 3, 'n_estimators': 20, 'subsample': 1.0}\n"
     ]
    },
    {
     "data": {
      "text/plain": [
       "['2174695728.70784',\n",
       " '21267777762009874432.00000',\n",
       " '4611700094.54321',\n",
       " '0.78008']"
      ]
     },
     "execution_count": 22,
     "metadata": {},
     "output_type": "execute_result"
    }
   ],
   "source": [
    "from sklearn.ensemble import GradientBoostingRegressor\n",
    "\n",
    "param_grid = {\n",
    "    'n_estimators': [19, 20, 21], # 20\n",
    "    'learning_rate': [0.1, 0.2], # 0.2\n",
    "    'max_depth': [3, 4, 5], # 4\n",
    "    'subsample': [0.9, 1.0], # 1\n",
    "    'min_samples_split': [2, 3, 4], # 3\n",
    "    'min_samples_leaf': [0.9, 1, 2], # 1\n",
    "    'max_features': [None, 'sqrt', 'log2', 0.0001, 0.001, 0.01, 0.1, 1] # 0.0001\n",
    "}\n",
    "\n",
    "gb = GradientBoostingRegressor(random_state=0)\n",
    "\n",
    "grid_search = GridSearchCV(estimator=gb, param_grid=param_grid, cv=5, scoring='r2', n_jobs=-1)\n",
    "\n",
    "# 4. Latih GridSearchCV pada data training\n",
    "grid_search.fit(X_train, y_train)\n",
    "\n",
    "# 5. Ambil hasil terbaik\n",
    "best_model = grid_search.best_estimator_\n",
    "print(\"Best Parameters:\", grid_search.best_params_)\n",
    "\n",
    "# 6. Evaluasi model terbaik pada data testing\n",
    "y_pred = best_model.predict(X_test)\n",
    "evaluation_metric(y_test, y_pred)"
   ]
  },
  {
   "cell_type": "code",
   "execution_count": 23,
   "metadata": {},
   "outputs": [],
   "source": [
    "param_grid = {\n",
    "    'n_estimators': [50, 100, 200], # n_estimators : int, default=100\n",
    "    'learning_rate': [0.01, 0.1, 0.2], # learning_rate : float, default=0.1 \n",
    "    'max_depth': [3, 5, 7], # int or None, default=3\n",
    "    'subsample': [0.8, 1.0], # float, default=1.0\n",
    "    'min_samples_split': [2, 5], # int or float, default=2\n",
    "    'min_samples_leaf': [1, 2], # int or float, default=1\n",
    "    'max_features': [None, 'sqrt', 'log2'] # {'sqrt', 'log2'}, int or float, default=None\n",
    "}"
   ]
  }
 ],
 "metadata": {
  "kernelspec": {
   "display_name": ".venv",
   "language": "python",
   "name": "python3"
  },
  "language_info": {
   "codemirror_mode": {
    "name": "ipython",
    "version": 3
   },
   "file_extension": ".py",
   "mimetype": "text/x-python",
   "name": "python",
   "nbconvert_exporter": "python",
   "pygments_lexer": "ipython3",
   "version": "3.12.0"
  }
 },
 "nbformat": 4,
 "nbformat_minor": 2
}
